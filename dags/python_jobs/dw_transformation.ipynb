{
 "cells": [
  {
   "cell_type": "code",
   "execution_count": 1,
   "id": "56da98d3-217d-4ac3-ba95-2f2dbb682994",
   "metadata": {
    "tags": []
   },
   "outputs": [
    {
     "name": "stdout",
     "output_type": "stream",
     "text": [
      "Requirement already satisfied: google-cloud-storage in /opt/conda/lib/python3.10/site-packages (2.8.0)\n",
      "Requirement already satisfied: google-resumable-media>=2.3.2 in /opt/conda/lib/python3.10/site-packages (from google-cloud-storage) (2.4.1)\n",
      "Requirement already satisfied: google-cloud-core<3.0dev,>=2.3.0 in /opt/conda/lib/python3.10/site-packages (from google-cloud-storage) (2.3.2)\n",
      "Requirement already satisfied: google-auth<3.0dev,>=1.25.0 in /opt/conda/lib/python3.10/site-packages (from google-cloud-storage) (2.17.2)\n",
      "Requirement already satisfied: google-api-core!=2.0.*,!=2.1.*,!=2.2.*,!=2.3.0,<3.0.0dev,>=1.31.5 in /opt/conda/lib/python3.10/site-packages (from google-cloud-storage) (2.11.0)\n",
      "Requirement already satisfied: requests<3.0.0dev,>=2.18.0 in /opt/conda/lib/python3.10/site-packages (from google-cloud-storage) (2.28.2)\n",
      "Requirement already satisfied: googleapis-common-protos<2.0dev,>=1.56.2 in /opt/conda/lib/python3.10/site-packages (from google-api-core!=2.0.*,!=2.1.*,!=2.2.*,!=2.3.0,<3.0.0dev,>=1.31.5->google-cloud-storage) (1.59.0)\n",
      "Requirement already satisfied: protobuf!=3.20.0,!=3.20.1,!=4.21.0,!=4.21.1,!=4.21.2,!=4.21.3,!=4.21.4,!=4.21.5,<5.0.0dev,>=3.19.5 in /opt/conda/lib/python3.10/site-packages (from google-api-core!=2.0.*,!=2.1.*,!=2.2.*,!=2.3.0,<3.0.0dev,>=1.31.5->google-cloud-storage) (4.21.12)\n",
      "Requirement already satisfied: pyasn1-modules>=0.2.1 in /opt/conda/lib/python3.10/site-packages (from google-auth<3.0dev,>=1.25.0->google-cloud-storage) (0.2.8)\n",
      "Requirement already satisfied: cachetools<6.0,>=2.0.0 in /opt/conda/lib/python3.10/site-packages (from google-auth<3.0dev,>=1.25.0->google-cloud-storage) (5.3.0)\n",
      "Requirement already satisfied: six>=1.9.0 in /opt/conda/lib/python3.10/site-packages (from google-auth<3.0dev,>=1.25.0->google-cloud-storage) (1.16.0)\n",
      "Requirement already satisfied: rsa<5,>=3.1.4 in /opt/conda/lib/python3.10/site-packages (from google-auth<3.0dev,>=1.25.0->google-cloud-storage) (4.9)\n",
      "Requirement already satisfied: google-crc32c<2.0dev,>=1.0 in /opt/conda/lib/python3.10/site-packages (from google-resumable-media>=2.3.2->google-cloud-storage) (1.5.0)\n",
      "Requirement already satisfied: urllib3<1.27,>=1.21.1 in /opt/conda/lib/python3.10/site-packages (from requests<3.0.0dev,>=2.18.0->google-cloud-storage) (1.26.15)\n",
      "Requirement already satisfied: certifi>=2017.4.17 in /opt/conda/lib/python3.10/site-packages (from requests<3.0.0dev,>=2.18.0->google-cloud-storage) (2022.12.7)\n",
      "Requirement already satisfied: idna<4,>=2.5 in /opt/conda/lib/python3.10/site-packages (from requests<3.0.0dev,>=2.18.0->google-cloud-storage) (3.4)\n",
      "Requirement already satisfied: charset-normalizer<4,>=2 in /opt/conda/lib/python3.10/site-packages (from requests<3.0.0dev,>=2.18.0->google-cloud-storage) (2.1.1)\n",
      "Requirement already satisfied: pyasn1<0.5.0,>=0.4.6 in /opt/conda/lib/python3.10/site-packages (from pyasn1-modules>=0.2.1->google-auth<3.0dev,>=1.25.0->google-cloud-storage) (0.4.8)\n"
     ]
    }
   ],
   "source": [
    "!pip install google-cloud-storage"
   ]
  },
  {
   "cell_type": "code",
   "execution_count": 2,
   "id": "ddddba36-af69-4e69-a298-f87015f602f5",
   "metadata": {
    "tags": []
   },
   "outputs": [],
   "source": [
    "from pyspark.sql import SparkSession\n",
    "from pyspark.sql.functions import col\n",
    "from pyspark.sql.functions import row_number\n",
    "from pyspark.sql.window import Window\n",
    "import pandas as pd\n",
    "import os\n",
    "\n",
    "os.environ['PYSPARK_SUBMIT_ARGS'] = '--driver-memory 2g pyspark-shell'\n",
    "spark = SparkSession.builder.appName('DWTransformation').getOrCreate()"
   ]
  },
  {
   "cell_type": "code",
   "execution_count": 3,
   "id": "70315b54-5fb7-4e25-a438-1a92be9f330d",
   "metadata": {
    "tags": []
   },
   "outputs": [],
   "source": [
    "private_key = \"ornate-spring-379820-00ec27d088ba.json\"\n",
    "project_id = 'ornate-spring-379820'\n",
    "\n",
    "gcs_bucket = \"bq-bucketgabrielcordeiro-1\"\n",
    "gcs_folder = \"transformed_data\"\n",
    "filename = \"xxx.parquet\""
   ]
  },
  {
   "cell_type": "code",
   "execution_count": 4,
   "id": "9827e9cf-086f-42e2-82f6-ffd38d2fc27f",
   "metadata": {
    "tags": []
   },
   "outputs": [],
   "source": [
    "spark._jsc.hadoopConfiguration().set(\"google.cloud.auth.service.account.json.keyfile\",private_key)"
   ]
  },
  {
   "cell_type": "code",
   "execution_count": 5,
   "id": "f91bc95d-c269-4572-8301-0eed9f787b4f",
   "metadata": {
    "tags": []
   },
   "outputs": [],
   "source": [
    "filename = '01_tabela2.parquet'\n",
    "filename2 = '02_tabela8.parquet'\n",
    "filename3 = '03_tabela12.parquet'\n",
    "df1 = spark.read.parquet(f'gs://{gcs_bucket}/{gcs_folder}/{filename}')\n",
    "df2 = spark.read.parquet(f'gs://{gcs_bucket}/{gcs_folder}/{filename2}')\n",
    "df3 = spark.read.parquet(f'gs://{gcs_bucket}/{gcs_folder}/{filename3}')"
   ]
  },
  {
   "cell_type": "markdown",
   "id": "91516d53",
   "metadata": {},
   "source": [
    "---"
   ]
  },
  {
   "cell_type": "markdown",
   "id": "e96461a9",
   "metadata": {},
   "source": [
    "### DIM_Estado"
   ]
  },
  {
   "cell_type": "code",
   "execution_count": 6,
   "id": "ffdd1f2a-2375-4a4f-9659-e9179bf7db92",
   "metadata": {
    "tags": []
   },
   "outputs": [],
   "source": [
    "df = df2.select(col(\"nome_estado\"))\n",
    "window = Window.orderBy('nome_estado')\n",
    "df = df.withColumn('id_estado', row_number().over(window))"
   ]
  },
  {
   "cell_type": "code",
   "execution_count": 7,
   "id": "cb7d0942-5d33-406c-b4f1-9d6669afdaa6",
   "metadata": {
    "tags": []
   },
   "outputs": [],
   "source": [
    "coordinates = { 'Acre': (-9.0238, -70.812),'Alagoas': (-9.5713, -36.7819),'Amapá': (0.902, -52.003),\n",
    "                'Amazonas': (-3.4168, -65.8561),'Bahia': (-12.5797, -41.7007),'Ceará': (-5.4984, -39.3206),\n",
    "                'Distrito Federal': (-15.7998, -47.8645),'Espírito Santo': (-19.1834, -40.3089),'Goiás': (-15.827, -49.8362),\n",
    "                'Maranhão': (-5.4324, -45.4436),'Mato Grosso': (-12.6819, -56.9211),'Mato Grosso do Sul': (-20.7722, -54.7852),\n",
    "                'Minas Gerais': (-18.5122, -44.555),'Pará': (-3.0144, -52.2024),'Paraíba': (-7.24, -36.782),\n",
    "                'Paraná': (-24.89, -51.55),'Pernambuco': (-8.8137, -36.9541),'Piauí': (-7.7183, -42.7289),\n",
    "                'Rio de Janeiro': (-22.84, -43.15),'Rio Grande do Norte': (-5.4026, -36.9541),'Rio Grande do Sul': (-30.0346, -51.2177),\n",
    "                'Rondônia': (-10.83, -63.34),'Roraima': (2.7376, -62.0751),'Santa Catarina': (-27.2423, -50.2189),\n",
    "                'São Paulo': (-22.19, -48.79),'Sergipe': (-10.5741, -37.3857),'Tocantins': (-10.25, -48.25) }"
   ]
  },
  {
   "cell_type": "code",
   "execution_count": 8,
   "id": "8c9e1ac4-1479-46e6-b7da-4d54f9a80e0d",
   "metadata": {
    "tags": []
   },
   "outputs": [],
   "source": [
    "df = df.toPandas()\n",
    "\n",
    "def extract_coordinates(estado_nome):\n",
    "    return coordinates[estado_nome]\n",
    "\n",
    "df['latitude'], df['longitude'] = zip(*df['nome_estado'].apply(extract_coordinates))"
   ]
  },
  {
   "cell_type": "code",
   "execution_count": 9,
   "id": "24c9ffe9-1e3a-4d76-a533-23f946e10820",
   "metadata": {
    "tags": []
   },
   "outputs": [
    {
     "name": "stderr",
     "output_type": "stream",
     "text": [
      "/usr/local/spark/python/pyspark/sql/pandas/conversion.py:474: FutureWarning: iteritems is deprecated and will be removed in a future version. Use .items instead.\n",
      "  for column, series in pdf.iteritems():\n",
      "/usr/local/spark/python/pyspark/sql/pandas/conversion.py:486: FutureWarning: iteritems is deprecated and will be removed in a future version. Use .items instead.\n",
      "  for column, series in pdf.iteritems():\n"
     ]
    }
   ],
   "source": [
    "DIM_estado = spark.createDataFrame(df)"
   ]
  },
  {
   "cell_type": "markdown",
   "id": "e96e38f7",
   "metadata": {},
   "source": [
    "### DIM_Municipio"
   ]
  },
  {
   "cell_type": "code",
   "execution_count": 10,
   "id": "23dfab99",
   "metadata": {},
   "outputs": [],
   "source": [
    "DIM_Municipio = df3.select(col(\"nome_municipio\")).distinct().orderBy(\"nome_municipio\")\n",
    "DIM_Municipio = DIM_Municipio.repartition('nome_municipio')\n",
    "window = Window.orderBy('nome_municipio')\n",
    "DIM_Municipio = DIM_Municipio.withColumn('id_municipio', row_number().over(window))"
   ]
  },
  {
   "cell_type": "markdown",
   "id": "c8bbe894",
   "metadata": {},
   "source": [
    "### DIM_Atividade"
   ]
  },
  {
   "cell_type": "code",
   "execution_count": 11,
   "id": "2ad82f0b",
   "metadata": {
    "tags": []
   },
   "outputs": [],
   "source": [
    "DIM_atividade = df3.select(col(\"classificacao_atividade\")).distinct().orderBy(\"classificacao_atividade\")\n",
    "DIM_atividade = DIM_atividade.filter(~col(\"classificacao_atividade\").contains(\"Total\"))\n",
    "DIM_atividade = DIM_atividade.repartition(\"classificacao_atividade\")\n",
    "window2 = Window.orderBy(\"classificacao_atividade\")\n",
    "DIM_atividade = DIM_atividade.withColumn(\"id_atividade\", row_number().over(window2))"
   ]
  },
  {
   "cell_type": "markdown",
   "id": "ed6fc3a8",
   "metadata": {},
   "source": [
    "### Stage table"
   ]
  },
  {
   "cell_type": "code",
   "execution_count": 12,
   "id": "913a627c-22df-4198-ab3e-f059eca088c1",
   "metadata": {
    "tags": []
   },
   "outputs": [],
   "source": [
    "pd.set_option('display.max_columns', False)\n",
    "pd.set_option('display.max_rows', False)"
   ]
  },
  {
   "cell_type": "code",
   "execution_count": 13,
   "id": "90546d2b-def9-47d5-8d59-ea4fd7b6d952",
   "metadata": {
    "tags": []
   },
   "outputs": [],
   "source": [
    "pd.set_option('display.max_columns', None)\n",
    "pd.set_option('display.max_rows', None)"
   ]
  },
  {
   "cell_type": "code",
   "execution_count": 14,
   "id": "6687aefa",
   "metadata": {},
   "outputs": [],
   "source": [
    "stage_df = (df1.join(df2, \"UF\", how=\"full_outer\")\n",
    "           .join(df3, \"UF\", how=\"full_outer\")\n",
    "           .join(DIM_atividade, \"classificacao_atividade\", how=\"full_outer\")\n",
    "           .join(DIM_Municipio, \"nome_municipio\", how=\"full_outer\")\n",
    "           .join(DIM_estado, \"nome_estado\", how=\"full_outer\"))"
   ]
  },
  {
   "cell_type": "markdown",
   "id": "9c2073d3",
   "metadata": {
    "tags": []
   },
   "source": [
    "### FA_Economia"
   ]
  },
  {
   "cell_type": "code",
   "execution_count": 15,
   "id": "73cad0fd",
   "metadata": {
    "tags": []
   },
   "outputs": [],
   "source": [
    "FA_Economia = stage_df.select('id_atividade','id_municipio', 'id_estado',\n",
    "                              'salario_medio_mensal_valor','pessoal_ocupado_assalariado',\n",
    "                              'pib_concorrente','tributo_iluminacao_publica','tributo_coleta_de_lixo',\n",
    "                              'tributo_incendio','tributo_limpeza_publica','poder_da_policia',\n",
    "                              'outros_tributos','nao_cobra_tributo','posicao_30_maiores_municipios')\n",
    "\n",
    "FA_Economia = FA_Economia.withColumnRenamed('salario_medio_mensal_valor','salario_medio_mensal')\n",
    "FA_Economia = FA_Economia.withColumnRenamed('pessoal_ocupado_assalariado','Quant_Pessoal_Assalariado')\n",
    "FA_Economia = FA_Economia.withColumnRenamed('pib_concorrente','PIB_nominal')\n",
    "FA_Economia = FA_Economia.withColumnRenamed('tributo_iluminacao_publica','Quant_Muni_Iluminacao_Publica')\n",
    "FA_Economia = FA_Economia.withColumnRenamed('tributo_coleta_de_lixo','Quant_Muni_Coleta_Lixo')\n",
    "FA_Economia = FA_Economia.withColumnRenamed('tributo_incendio','Quant_Muni_Trib_Incendio')\n",
    "FA_Economia = FA_Economia.withColumnRenamed('tributo_limpeza_publica','Quant_Muni_Limp_Publica')\n",
    "FA_Economia = FA_Economia.withColumnRenamed('poder_da_policia','Quant_Muni_Poder_Policial')\n",
    "FA_Economia = FA_Economia.withColumnRenamed('outros_tributos','Quant_Muni_Outros_Trib')\n",
    "FA_Economia = FA_Economia.withColumnRenamed('nao_cobra_tributo','Quant_Muni_Sem_Trib')\n",
    "FA_Economia = FA_Economia.withColumnRenamed('posicao_30_maiores_municipios','ranking_municipio')"
   ]
  },
  {
   "cell_type": "markdown",
   "id": "424faf18",
   "metadata": {},
   "source": [
    "---"
   ]
  },
  {
   "cell_type": "code",
   "execution_count": 16,
   "id": "acb7bd86-6749-4aa0-af8d-e8f685b31843",
   "metadata": {
    "tags": []
   },
   "outputs": [
    {
     "ename": "NameError",
     "evalue": "name 'DIM_Estado' is not defined",
     "output_type": "error",
     "traceback": [
      "\u001b[0;31m---------------------------------------------------------------------------\u001b[0m",
      "\u001b[0;31mNameError\u001b[0m                                 Traceback (most recent call last)",
      "Cell \u001b[0;32mIn[16], line 4\u001b[0m\n\u001b[1;32m      2\u001b[0m DIM_atividade\u001b[38;5;241m.\u001b[39mwrite\u001b[38;5;241m.\u001b[39mmode(\u001b[38;5;124m'\u001b[39m\u001b[38;5;124moverwrite\u001b[39m\u001b[38;5;124m'\u001b[39m)\u001b[38;5;241m.\u001b[39mformat(\u001b[38;5;124m'\u001b[39m\u001b[38;5;124mparquet\u001b[39m\u001b[38;5;124m'\u001b[39m)\u001b[38;5;241m.\u001b[39msave(\u001b[38;5;124mf\u001b[39m\u001b[38;5;124m'\u001b[39m\u001b[38;5;124mgs://\u001b[39m\u001b[38;5;132;01m{\u001b[39;00mgcs_bucket\u001b[38;5;132;01m}\u001b[39;00m\u001b[38;5;124m/\u001b[39m\u001b[38;5;132;01m{\u001b[39;00mgcs_folder\u001b[38;5;132;01m}\u001b[39;00m\u001b[38;5;124m/DIM_Atividade.parquet\u001b[39m\u001b[38;5;124m'\u001b[39m)\n\u001b[1;32m      3\u001b[0m DIM_Municipio\u001b[38;5;241m.\u001b[39mwrite\u001b[38;5;241m.\u001b[39mmode(\u001b[38;5;124m'\u001b[39m\u001b[38;5;124moverwrite\u001b[39m\u001b[38;5;124m'\u001b[39m)\u001b[38;5;241m.\u001b[39mformat(\u001b[38;5;124m'\u001b[39m\u001b[38;5;124mparquet\u001b[39m\u001b[38;5;124m'\u001b[39m)\u001b[38;5;241m.\u001b[39msave(\u001b[38;5;124mf\u001b[39m\u001b[38;5;124m'\u001b[39m\u001b[38;5;124mgs://\u001b[39m\u001b[38;5;132;01m{\u001b[39;00mgcs_bucket\u001b[38;5;132;01m}\u001b[39;00m\u001b[38;5;124m/\u001b[39m\u001b[38;5;132;01m{\u001b[39;00mgcs_folder\u001b[38;5;132;01m}\u001b[39;00m\u001b[38;5;124m/DIM_Municipio.parquet\u001b[39m\u001b[38;5;124m'\u001b[39m)\n\u001b[0;32m----> 4\u001b[0m \u001b[43mDIM_Estado\u001b[49m\u001b[38;5;241m.\u001b[39mwrite\u001b[38;5;241m.\u001b[39mmode(\u001b[38;5;124m'\u001b[39m\u001b[38;5;124moverwrite\u001b[39m\u001b[38;5;124m'\u001b[39m)\u001b[38;5;241m.\u001b[39mformat(\u001b[38;5;124m'\u001b[39m\u001b[38;5;124mparquet\u001b[39m\u001b[38;5;124m'\u001b[39m)\u001b[38;5;241m.\u001b[39msave(\u001b[38;5;124mf\u001b[39m\u001b[38;5;124m'\u001b[39m\u001b[38;5;124mgs://\u001b[39m\u001b[38;5;132;01m{\u001b[39;00mgcs_bucket\u001b[38;5;132;01m}\u001b[39;00m\u001b[38;5;124m/\u001b[39m\u001b[38;5;132;01m{\u001b[39;00mgcs_folder\u001b[38;5;132;01m}\u001b[39;00m\u001b[38;5;124m/DIM_Estado.parquet\u001b[39m\u001b[38;5;124m'\u001b[39m)\n",
      "\u001b[0;31mNameError\u001b[0m: name 'DIM_Estado' is not defined"
     ]
    }
   ],
   "source": [
    "FA_Economia.write.mode('overwrite').format('parquet').save(f'gs://{gcs_bucket}/{gcs_folder}/FA_Economia.parquet')\n",
    "DIM_atividade.write.mode('overwrite').format('parquet').save(f'gs://{gcs_bucket}/{gcs_folder}/DIM_Atividade.parquet')\n",
    "DIM_Municipio.write.mode('overwrite').format('parquet').save(f'gs://{gcs_bucket}/{gcs_folder}/DIM_Municipio.parquet')\n",
    "DIM_estado.write.mode('overwrite').format('parquet').save(f'gs://{gcs_bucket}/{gcs_folder}/DIM_Estado.parquet')"
   ]
  },
  {
   "cell_type": "code",
   "execution_count": null,
   "id": "0108c223-8255-4312-8a9c-67441694150d",
   "metadata": {},
   "outputs": [],
   "source": []
  }
 ],
 "metadata": {
  "kernelspec": {
   "display_name": "Python 3 (ipykernel)",
   "language": "python",
   "name": "python3"
  },
  "language_info": {
   "codemirror_mode": {
    "name": "ipython",
    "version": 3
   },
   "file_extension": ".py",
   "mimetype": "text/x-python",
   "name": "python",
   "nbconvert_exporter": "python",
   "pygments_lexer": "ipython3",
   "version": "3.10.6"
  }
 },
 "nbformat": 4,
 "nbformat_minor": 5
}
