{
 "cells": [
  {
   "cell_type": "code",
   "execution_count": 22,
   "id": "e0acddc3-e0ad-4245-92f2-8cff4ed82a8f",
   "metadata": {
    "collapsed": true,
    "jupyter": {
     "outputs_hidden": true
    },
    "tags": []
   },
   "outputs": [
    {
     "name": "stdout",
     "output_type": "stream",
     "text": [
      "Defaulting to user installation because normal site-packages is not writeable\n",
      "Requirement already satisfied: pandas in /home/gabriel/.local/lib/python3.10/site-packages (1.5.3)\n",
      "Requirement already satisfied: openpyxl in /home/gabriel/.local/lib/python3.10/site-packages (3.1.2)\n",
      "Requirement already satisfied: xlrd in /home/gabriel/.local/lib/python3.10/site-packages (2.0.1)\n",
      "Requirement already satisfied: gcsfs in /home/gabriel/.local/lib/python3.10/site-packages (2023.3.0)\n",
      "Requirement already satisfied: fsspec in /home/gabriel/.local/lib/python3.10/site-packages (2023.3.0)\n",
      "Requirement already satisfied: numpy>=1.21.0 in /home/gabriel/.local/lib/python3.10/site-packages (from pandas) (1.24.2)\n",
      "Requirement already satisfied: pytz>=2020.1 in /usr/lib/python3/dist-packages (from pandas) (2022.1)\n",
      "Requirement already satisfied: python-dateutil>=2.8.1 in /home/gabriel/.local/lib/python3.10/site-packages (from pandas) (2.8.2)\n",
      "Requirement already satisfied: et-xmlfile in /home/gabriel/.local/lib/python3.10/site-packages (from openpyxl) (1.1.0)\n",
      "Requirement already satisfied: google-auth>=1.2 in /home/gabriel/.local/lib/python3.10/site-packages (from gcsfs) (2.16.3)\n",
      "Requirement already satisfied: requests in /usr/lib/python3/dist-packages (from gcsfs) (2.25.1)\n",
      "Requirement already satisfied: google-cloud-storage in /home/gabriel/.local/lib/python3.10/site-packages (from gcsfs) (2.7.0)\n",
      "Requirement already satisfied: aiohttp!=4.0.0a0,!=4.0.0a1 in /home/gabriel/.local/lib/python3.10/site-packages (from gcsfs) (3.8.4)\n",
      "Requirement already satisfied: google-auth-oauthlib in /home/gabriel/.local/lib/python3.10/site-packages (from gcsfs) (1.0.0)\n",
      "Requirement already satisfied: decorator>4.1.2 in /home/gabriel/.local/lib/python3.10/site-packages (from gcsfs) (5.1.1)\n",
      "Requirement already satisfied: charset-normalizer<4.0,>=2.0 in /home/gabriel/.local/lib/python3.10/site-packages (from aiohttp!=4.0.0a0,!=4.0.0a1->gcsfs) (3.1.0)\n",
      "Requirement already satisfied: frozenlist>=1.1.1 in /home/gabriel/.local/lib/python3.10/site-packages (from aiohttp!=4.0.0a0,!=4.0.0a1->gcsfs) (1.3.3)\n",
      "Requirement already satisfied: yarl<2.0,>=1.0 in /home/gabriel/.local/lib/python3.10/site-packages (from aiohttp!=4.0.0a0,!=4.0.0a1->gcsfs) (1.8.2)\n",
      "Requirement already satisfied: aiosignal>=1.1.2 in /home/gabriel/.local/lib/python3.10/site-packages (from aiohttp!=4.0.0a0,!=4.0.0a1->gcsfs) (1.3.1)\n",
      "Requirement already satisfied: async-timeout<5.0,>=4.0.0a3 in /home/gabriel/.local/lib/python3.10/site-packages (from aiohttp!=4.0.0a0,!=4.0.0a1->gcsfs) (4.0.2)\n",
      "Requirement already satisfied: multidict<7.0,>=4.5 in /home/gabriel/.local/lib/python3.10/site-packages (from aiohttp!=4.0.0a0,!=4.0.0a1->gcsfs) (6.0.4)\n",
      "Requirement already satisfied: attrs>=17.3.0 in /usr/lib/python3/dist-packages (from aiohttp!=4.0.0a0,!=4.0.0a1->gcsfs) (21.2.0)\n",
      "Requirement already satisfied: six>=1.9.0 in /usr/lib/python3/dist-packages (from google-auth>=1.2->gcsfs) (1.16.0)\n",
      "Requirement already satisfied: pyasn1-modules>=0.2.1 in /home/gabriel/.local/lib/python3.10/site-packages (from google-auth>=1.2->gcsfs) (0.2.8)\n",
      "Requirement already satisfied: rsa<5,>=3.1.4 in /home/gabriel/.local/lib/python3.10/site-packages (from google-auth>=1.2->gcsfs) (4.9)\n",
      "Requirement already satisfied: cachetools<6.0,>=2.0.0 in /home/gabriel/.local/lib/python3.10/site-packages (from google-auth>=1.2->gcsfs) (5.3.0)\n",
      "Requirement already satisfied: requests-oauthlib>=0.7.0 in /home/gabriel/.local/lib/python3.10/site-packages (from google-auth-oauthlib->gcsfs) (1.3.1)\n",
      "Requirement already satisfied: google-api-core!=2.0.*,!=2.1.*,!=2.2.*,!=2.3.0,<3.0.0dev,>=1.31.5 in /home/gabriel/.local/lib/python3.10/site-packages (from google-cloud-storage->gcsfs) (2.11.0)\n",
      "Requirement already satisfied: google-resumable-media>=2.3.2 in /home/gabriel/.local/lib/python3.10/site-packages (from google-cloud-storage->gcsfs) (2.4.1)\n",
      "Requirement already satisfied: google-cloud-core<3.0dev,>=2.3.0 in /home/gabriel/.local/lib/python3.10/site-packages (from google-cloud-storage->gcsfs) (2.3.2)\n",
      "Requirement already satisfied: googleapis-common-protos<2.0dev,>=1.56.2 in /home/gabriel/.local/lib/python3.10/site-packages (from google-api-core!=2.0.*,!=2.1.*,!=2.2.*,!=2.3.0,<3.0.0dev,>=1.31.5->google-cloud-storage->gcsfs) (1.59.0)\n",
      "Requirement already satisfied: protobuf!=3.20.0,!=3.20.1,!=4.21.0,!=4.21.1,!=4.21.2,!=4.21.3,!=4.21.4,!=4.21.5,<5.0.0dev,>=3.19.5 in /home/gabriel/.local/lib/python3.10/site-packages (from google-api-core!=2.0.*,!=2.1.*,!=2.2.*,!=2.3.0,<3.0.0dev,>=1.31.5->google-cloud-storage->gcsfs) (4.22.1)\n",
      "Requirement already satisfied: google-crc32c<2.0dev,>=1.0 in /home/gabriel/.local/lib/python3.10/site-packages (from google-resumable-media>=2.3.2->google-cloud-storage->gcsfs) (1.5.0)\n",
      "Requirement already satisfied: pyasn1<0.5.0,>=0.4.6 in /home/gabriel/.local/lib/python3.10/site-packages (from pyasn1-modules>=0.2.1->google-auth>=1.2->gcsfs) (0.4.8)\n",
      "Requirement already satisfied: oauthlib>=3.0.0 in /usr/lib/python3/dist-packages (from requests-oauthlib>=0.7.0->google-auth-oauthlib->gcsfs) (3.2.0)\n",
      "Requirement already satisfied: idna>=2.0 in /usr/lib/python3/dist-packages (from yarl<2.0,>=1.0->aiohttp!=4.0.0a0,!=4.0.0a1->gcsfs) (3.3)\n"
     ]
    }
   ],
   "source": [
    "!pip install pandas openpyxl xlrd gcsfs fsspec"
   ]
  },
  {
   "cell_type": "code",
   "execution_count": 23,
   "id": "537708a9-05b3-47d3-80f7-d226813fbdf0",
   "metadata": {
    "tags": []
   },
   "outputs": [],
   "source": [
    "private_key = \"ornate-spring-379820-00ec27d088ba.json\"\n",
    "project_id = 'ornate-spring-379820'"
   ]
  },
  {
   "cell_type": "code",
   "execution_count": 24,
   "id": "74c088ff-6386-431e-8acc-291eabbd19cc",
   "metadata": {
    "tags": []
   },
   "outputs": [],
   "source": [
    "gcs_bucket = \"bq-bucketgabrielcordeiro-1\"\n",
    "gcs_folder = \"raw_data\"\n",
    "file_name = \"01_Pib_Municipios_tabelas_completas.xlsx/01_Pib_Municipios_tabelas_completas.xlsx\"\n",
    "gcs_path = f\"gs://{gcs_bucket}/{gcs_folder}/{file_name}\""
   ]
  },
  {
   "cell_type": "code",
   "execution_count": 25,
   "id": "671dcdb3-2e84-490a-8509-883465de951f",
   "metadata": {
    "tags": []
   },
   "outputs": [],
   "source": [
    "from pyspark.sql import SparkSession\n",
    "import pandas as pd\n",
    "import os\n",
    "\n",
    "os.environ['PYSPARK_SUBMIT_ARGS'] = '--driver-memory 2g pyspark-shell'\n",
    "pd.set_option('display.max_rows', None)\n",
    "\n",
    "spark = SparkSession.builder.appName('MyPySparkJob').getOrCreate()"
   ]
  },
  {
   "cell_type": "code",
   "execution_count": 26,
   "id": "2e46a36f-d00a-4993-9589-71d6b74ee6cc",
   "metadata": {
    "tags": []
   },
   "outputs": [],
   "source": [
    "spark._jsc.hadoopConfiguration().set(\"google.cloud.auth.service.account.json.keyfile\",private_key)"
   ]
  },
  {
   "cell_type": "markdown",
   "id": "b8d0b685-33e4-4f59-ba2a-717cbadf3939",
   "metadata": {
    "jupyter": {
     "source_hidden": true
    },
    "tags": []
   },
   "source": [
    " ## Dataset 1"
   ]
  },
  {
   "cell_type": "code",
   "execution_count": 27,
   "id": "769e8669-7bd5-4027-bfc7-bd04d1bb7585",
   "metadata": {
    "tags": []
   },
   "outputs": [],
   "source": [
    "gcs_bucket = \"bq-bucketgabrielcordeiro-1\"\n",
    "gcs_folder = \"raw_data\"\n",
    "filename = \"01_Pib_Municipios_tabelas_completas.xlsx/01_Pib_Municipios_tabelas_completas.xlsx\""
   ]
  },
  {
   "cell_type": "code",
   "execution_count": 28,
   "id": "a8c28fe7-fc75-45c9-8481-e2807c485b37",
   "metadata": {
    "tags": []
   },
   "outputs": [],
   "source": [
    "df = pd.read_excel(f'gs://{gcs_bucket}/{gcs_folder}/{filename}',\n",
    "                   engine=\"openpyxl\", \n",
    "                   sheet_name=\"Tabela 2\", \n",
    "                   storage_options={\"token\": private_key})"
   ]
  },
  {
   "cell_type": "markdown",
   "id": "ca2c333d-6713-4661-90fe-5ad01a064c57",
   "metadata": {
    "tags": []
   },
   "source": [
    "### Tabela 2 - Top 30 Maiores Municipios por PIB"
   ]
  },
  {
   "cell_type": "markdown",
   "id": "fc8e6c54-55f3-4544-bb69-b55b73b54b2e",
   "metadata": {
    "tags": []
   },
   "source": [
    "#### Functions"
   ]
  },
  {
   "cell_type": "code",
   "execution_count": 29,
   "id": "431b4315-cd66-4a2a-a59c-80bef46423c1",
   "metadata": {
    "tags": []
   },
   "outputs": [],
   "source": [
    "# Transformar a primeira linha de cada Dataframe no Header\n",
    "def firstLineToHeader(df):\n",
    "    new_header = df.iloc[0]\n",
    "    df = df[1:]\n",
    "    df.columns = new_header\n",
    "    df.columns = df.columns.str.replace('\\n', ' ')\n",
    "    df.columns = df.columns.str.replace('- ', '')\n",
    "    df = df.reset_index(drop=True)\n",
    "    return df\n",
    "\n",
    "# Resolve o Problema de colunas com nomes duplicados\n",
    "def differDuplicatedNameColumns(df):\n",
    "    cols=pd.Series(df.columns)\n",
    "    for dup in df.columns[df.columns.duplicated(keep=False)]: \n",
    "        cols[df.columns.get_loc(dup)] = ([dup + '.' + str(d_idx) if d_idx != 0 else dup \n",
    "                                        for d_idx in range(df.columns.get_loc(dup).sum())])\n",
    "    df.columns=cols\n",
    "    return df.columns\n",
    "\n",
    "def extractAndAppendUF(df):\n",
    "    df[['Municípios e respectivas Unidades da Federação', 'UF']] = df['Municípios e respectivas Unidades da Federação']\\\n",
    "        .str.extract('^(.*?) \\((.*?)\\)$', expand=True)\n",
    "    return df"
   ]
  },
  {
   "cell_type": "markdown",
   "id": "596f90ec-8bc2-422d-b7a1-a8c8df766d53",
   "metadata": {
    "tags": []
   },
   "source": [
    "#### Transformation"
   ]
  },
  {
   "cell_type": "code",
   "execution_count": 30,
   "id": "55f0a1c0-f7bd-4831-a426-7c24a0c41706",
   "metadata": {
    "tags": []
   },
   "outputs": [],
   "source": [
    "# Limpar multi Index\n",
    "df = df.dropna(how='any')\n",
    "df = df.reset_index(drop=True)\n",
    "\n",
    "# Dividir a tabela em Dataframes por região\n",
    "tabela2_norte_maior = df.iloc[0:31].reset_index(drop=True)\n",
    "tabela2_nordeste_maior = df.iloc[31:63].reset_index(drop=True)\n",
    "tabela2_sudeste_maior = df.iloc[63:94].reset_index(drop=True)\n",
    "tabela2_sul_maior = df.iloc[94:125].reset_index(drop=True)\n",
    "tabela2_centroeste_maior = df.iloc[125:156].reset_index(drop=True)\n",
    "\n",
    "# Atribuindo Header e Extraindo Sigla do Estado\n",
    "tabela2_norte_maior = firstLineToHeader(tabela2_norte_maior)\n",
    "tabela2_norte_maior = extractAndAppendUF(tabela2_norte_maior)\n",
    "tabela2_norte_maior['regiao'] = 'Norte'\n",
    "\n",
    "tabela2_nordeste_maior = firstLineToHeader(tabela2_nordeste_maior)\n",
    "tabela2_nordeste_maior = tabela2_nordeste_maior.drop(0).reset_index(drop=True) # Limpando Linha Extra contendo \"Nordeste\"\n",
    "tabela2_nordeste_maior = extractAndAppendUF(tabela2_nordeste_maior)\n",
    "tabela2_nordeste_maior['regiao'] = 'Nordeste'\n",
    "\n",
    "tabela2_sudeste_maior = firstLineToHeader(tabela2_sudeste_maior)\n",
    "tabela2_sudeste_maior = extractAndAppendUF(tabela2_sudeste_maior)\n",
    "tabela2_sudeste_maior['regiao'] = 'Sudeste'\n",
    "\n",
    "tabela2_sul_maior = firstLineToHeader(tabela2_sul_maior)\n",
    "tabela2_sul_maior = extractAndAppendUF(tabela2_sul_maior)\n",
    "tabela2_sul_maior['regiao'] = 'Sul'\n",
    "\n",
    "tabela2_centroeste_maior = firstLineToHeader(tabela2_centroeste_maior)\n",
    "tabela2_centroeste_maior = extractAndAppendUF(tabela2_centroeste_maior)\n",
    "tabela2_centroeste_maior['regiao'] = 'Centro-Oeste'"
   ]
  },
  {
   "cell_type": "code",
   "execution_count": 31,
   "id": "b6d48f05-90a1-469a-8b05-0542c440375d",
   "metadata": {
    "tags": []
   },
   "outputs": [
    {
     "name": "stderr",
     "output_type": "stream",
     "text": [
      "/opt/spark-3.2.3-bin-hadoop3.2/python/lib/pyspark.zip/pyspark/sql/pandas/conversion.py:371: FutureWarning: iteritems is deprecated and will be removed in a future version. Use .items instead.\n"
     ]
    }
   ],
   "source": [
    "spark_tabela2_norte_maior = spark.createDataFrame(tabela2_norte_maior)\n",
    "spark_tabela2_nordeste_maior = spark.createDataFrame(tabela2_nordeste_maior)\n",
    "spark_tabela2_sudeste_maior = spark.createDataFrame(tabela2_sudeste_maior)\n",
    "spark_tabela2_sul_maior = spark.createDataFrame(tabela2_sul_maior)\n",
    "spark_tabela2_centroeste_maior = spark.createDataFrame(tabela2_centroeste_maior)"
   ]
  },
  {
   "cell_type": "code",
   "execution_count": 32,
   "id": "aff05014-4d79-44f8-afbb-05250e77a86c",
   "metadata": {
    "tags": []
   },
   "outputs": [],
   "source": [
    "from pyspark.sql.functions import lit\n",
    "\n",
    "# adiciona uma coluna 'source' para identificar a origem de cada dataframe\n",
    "df1 = spark_tabela2_norte_maior.withColumn('source', lit('df1'))\n",
    "df2 = spark_tabela2_nordeste_maior.withColumn('source', lit('df2'))\n",
    "df3 = spark_tabela2_sudeste_maior.withColumn('source', lit('df3'))\n",
    "df4 = spark_tabela2_sul_maior.withColumn('source', lit('df4'))\n",
    "df5 = spark_tabela2_centroeste_maior.withColumn('source', lit('df5'))\n",
    "\n",
    "# Unir os dataframes\n",
    "tabela2 = df1.union(df2).union(df3).union(df4).union(df5).drop('source')\n",
    "\n",
    "new_header = ['nome_municipio', 'posicao_30_maiores_municipios', 'pib_concorrente', \n",
    "              'participacao_porcentagem_municipios_grande_regiao', \n",
    "              'participacao_acumulada_municípios_grande_regiao', 'UF', 'regiao']\n",
    "\n",
    "# Renomear colunas dataframe\n",
    "for i in range(len(new_header)):\n",
    "    old_name = tabela2.columns[i]\n",
    "    new_name = new_header[i]\n",
    "    tabela2 = tabela2.withColumnRenamed(old_name, new_name)"
   ]
  },
  {
   "cell_type": "markdown",
   "id": "24e3a45a-0a41-444e-8bfc-d4dfe476c625",
   "metadata": {
    "tags": []
   },
   "source": [
    "### Tabela 9 - Participação dos top5 municipios no PIB por estado"
   ]
  },
  {
   "cell_type": "code",
   "execution_count": 33,
   "id": "c63f0135-7a58-4a96-88eb-7cf4275b68ea",
   "metadata": {
    "tags": []
   },
   "outputs": [],
   "source": [
    "df = pd.read_excel(f'gs://{gcs_bucket}/{gcs_folder}/{filename}',\n",
    "                   engine=\"openpyxl\", \n",
    "                   sheet_name=\"Tabela 9\", \n",
    "                   storage_options={\"token\": private_key})"
   ]
  },
  {
   "cell_type": "markdown",
   "id": "5c927538-fe5c-41a2-9e5f-86abbb9cb15a",
   "metadata": {},
   "source": [
    "#### functions & dict"
   ]
  },
  {
   "cell_type": "code",
   "execution_count": 34,
   "id": "f59e7295-05cb-407b-a272-aec906934b52",
   "metadata": {
    "tags": []
   },
   "outputs": [],
   "source": [
    "def addDashInNumberHeaders(df):\n",
    "    new_columns = []\n",
    "    for column_name in df.columns:\n",
    "        if column_name.isnumeric():\n",
    "            new_columns.append('_' + column_name)\n",
    "        else:\n",
    "            new_columns.append(column_name)\n",
    "    return new_columns\n",
    "\n",
    "def extrair_sigla_estado(valor):\n",
    "    partes = valor.split(\" (\")\n",
    "    nome_estado = partes[0]\n",
    "    return uf_dict.get(nome_estado)\n",
    "\n",
    "def extrair_estado(valor):\n",
    "    partes = valor.split(\" (\")\n",
    "    nome_estado = partes[0]\n",
    "    return nome_estado\n",
    "\n",
    "uf_dict = {'Acre': 'AC', 'Alagoas': 'AL', 'Amapá': 'AP', 'Amazonas': 'AM', 'Bahia': 'BA',\n",
    "           'Ceará': 'CE', 'Distrito Federal': 'DF', 'Espírito Santo': 'ES', 'Goiás': 'GO',\n",
    "           'Maranhão': 'MA', 'Mato Grosso': 'MT', 'Mato Grosso do Sul': 'MS', 'Minas Gerais': 'MG',\n",
    "           'Pará': 'PA', 'Paraíba': 'PB', 'Paraná': 'PR', 'Pernambuco': 'PE', 'Piauí': 'PI',\n",
    "           'Rio de Janeiro': 'RJ', 'Rio Grande do Norte': 'RN', 'Rio Grande do Sul': 'RS',\n",
    "           'Rondônia': 'RO', 'Roraima': 'RR', 'Santa Catarina': 'SC', 'São Paulo': 'SP',\n",
    "           'Sergipe': 'SE', 'Tocantins': 'TO'}"
   ]
  },
  {
   "cell_type": "markdown",
   "id": "e1691a81-708b-4138-a6b6-aec1a21ee5ea",
   "metadata": {},
   "source": [
    "#### transformation"
   ]
  },
  {
   "cell_type": "code",
   "execution_count": 35,
   "id": "83fca220-c440-4085-afc6-fb2bbf62634a",
   "metadata": {
    "tags": []
   },
   "outputs": [],
   "source": [
    "new_header = df.iloc[4]\n",
    "df = df[4:]\n",
    "df = df.reset_index(drop=True)\n",
    "df.columns = new_header\n",
    "df = df[1:28]"
   ]
  },
  {
   "cell_type": "code",
   "execution_count": 36,
   "id": "2510b2ed-13ed-4c02-a988-bdfd9e0be186",
   "metadata": {
    "tags": []
   },
   "outputs": [],
   "source": [
    "# Tentar converter os headers para Inteiro e remover os \"/n\"\n",
    "for coluna in df.columns:\n",
    "    try:\n",
    "        df.rename(columns={coluna: int(coluna)}, inplace=True)\n",
    "    except ValueError:\n",
    "        pass\n",
    "    try:\n",
    "        df.rename(columns={coluna: coluna.replace('\\n', '')}, inplace=True)\n",
    "    except:\n",
    "        pass\n",
    "\n",
    "df.columns = df.columns.fillna('x')\n",
    "df = df.rename_axis(index=None, columns=None)\n",
    "df = df.reset_index(drop=True)"
   ]
  },
  {
   "cell_type": "code",
   "execution_count": 37,
   "id": "036a1a22-f30b-4fd8-b8cc-1dca96de7e33",
   "metadata": {
    "tags": []
   },
   "outputs": [],
   "source": [
    "df.columns = differDuplicatedNameColumns(df)\n",
    "\n",
    "df.columns = df.columns.astype(str)\n",
    "header_19 = 'Participação no número de municípios da Unidade da Federação 2019 (%)'\n",
    "header_20 = 'Participação no total da população da Unidade da Federação 2019 (%)'\n",
    "\n",
    "df = df.rename(columns={'x': 'estado', 'x.1': header_19, 'x.2': header_20, '2019(2)': '2019'})\n",
    "df = df.iloc[:, :-2] # remove as duas ultimas colunas\n",
    "\n",
    "df[\"UF\"] = df[\"estado\"].apply(extrair_sigla_estado) # Cria a Coluna UF\n",
    "df[\"estado\"] = df[\"estado\"].apply(extrair_estado)\n",
    "df.columns = addDashInNumberHeaders(df)\n",
    "#df.columns = df.columns.astype(str)\n",
    "\n",
    "tabela9 = df.copy()"
   ]
  },
  {
   "cell_type": "markdown",
   "id": "10b3364f-ab17-4974-a565-5d4593663446",
   "metadata": {
    "jp-MarkdownHeadingCollapsed": true,
    "tags": []
   },
   "source": [
    "## Dataset 2"
   ]
  },
  {
   "cell_type": "code",
   "execution_count": 38,
   "id": "efc16a9f-839d-45e3-9038-6e4f7f81b0c2",
   "metadata": {
    "tags": []
   },
   "outputs": [],
   "source": [
    "filename = '02_Recursos_para_a_gestao_20210817/Tab_8.xls'\n",
    "\n",
    "df = pd.read_excel(f'gs://{gcs_bucket}/{gcs_folder}/{filename}',\n",
    "                   storage_options={\"token\": private_key})"
   ]
  },
  {
   "cell_type": "markdown",
   "id": "e61ef018-f070-4b97-a9c5-187b16bde775",
   "metadata": {},
   "source": [
    "### functions & dict"
   ]
  },
  {
   "cell_type": "code",
   "execution_count": 39,
   "id": "29eedea8-2d41-46cd-b88f-bdc6e92d81e4",
   "metadata": {
    "tags": []
   },
   "outputs": [],
   "source": [
    "def differDuplicatedNameColumns(df):\n",
    "    cols=pd.Series(df.columns)\n",
    "    for dup in df.columns[df.columns.duplicated(keep=False)]: \n",
    "        cols[df.columns.get_loc(dup)] = ([dup + '.' + str(d_idx) if d_idx != 0 else dup \n",
    "                                        for d_idx in range(df.columns.get_loc(dup).sum())])\n",
    "    df.columns=cols\n",
    "    return df.columns"
   ]
  },
  {
   "cell_type": "code",
   "execution_count": 40,
   "id": "dfb3974d-10ca-47f6-9f05-298e31dbd180",
   "metadata": {
    "tags": []
   },
   "outputs": [],
   "source": [
    "uf_dict = {'Acre': 'AC', 'Alagoas': 'AL', 'Amapá': 'AP', 'Amazonas': 'AM', 'Bahia': 'BA',\n",
    "           'Ceará': 'CE', 'Distrito Federal': 'DF', 'Espírito Santo': 'ES', 'Goiás': 'GO',\n",
    "           'Maranhão': 'MA', 'Mato Grosso': 'MT', 'Mato Grosso do Sul': 'MS', 'Minas Gerais': 'MG',\n",
    "           'Pará': 'PA', 'Paraíba': 'PB', 'Paraná': 'PR', 'Pernambuco': 'PE', 'Piauí': 'PI',\n",
    "           'Rio de Janeiro': 'RJ', 'Rio Grande do Norte': 'RN', 'Rio Grande do Sul': 'RS',\n",
    "           'Rondônia': 'RO', 'Roraima': 'RR', 'Santa Catarina': 'SC', 'São Paulo': 'SP',\n",
    "           'Sergipe': 'SE', 'Tocantins': 'TO'}\n",
    "\n",
    "new_header = ['nome_estado', 'total_municipios_pagam_tributacao', 'tributo_iluminacao_publica', \n",
    "              'tributo_coleta_de_lixo', 'tributo_incendio', 'tributo_limpeza_publica', \n",
    "              'poder_da_policia', 'outros_tributos', 'nao_cobra_tributo']"
   ]
  },
  {
   "cell_type": "markdown",
   "id": "7c0c219d-b2c0-4b0e-9788-fbd15a7cd16b",
   "metadata": {},
   "source": [
    "### transformation"
   ]
  },
  {
   "cell_type": "code",
   "execution_count": 41,
   "id": "bd25f23c-db2e-44d3-999d-c3a4325203e5",
   "metadata": {
    "tags": []
   },
   "outputs": [],
   "source": [
    "df = df[6:-2] # Seleciona area util do Dataframe\n",
    "df.columns = differDuplicatedNameColumns(df)\n",
    "df = df.rename(columns=dict(zip(df.columns, new_header))) # Renomeia o Header com new_header"
   ]
  },
  {
   "cell_type": "code",
   "execution_count": 42,
   "id": "7f07a721-dbe0-444b-a969-1ad81481f6bf",
   "metadata": {
    "tags": []
   },
   "outputs": [],
   "source": [
    "mask = df['nome_estado'].isin(['Norte', 'Nordeste', 'Sudeste', 'Sul', 'Centro-Oeste'])\n",
    "df = df[~mask]\n",
    "\n",
    "df = df.reset_index(drop=True)\n",
    "df = df.dropna()\n",
    "\n",
    "df['UF'] = df['nome_estado'].map(uf_dict)\n",
    "\n",
    "tabela8 = df.copy()"
   ]
  },
  {
   "cell_type": "markdown",
   "id": "2dca8eca-577a-45b0-9586-5a18c90c6c56",
   "metadata": {
    "jp-MarkdownHeadingCollapsed": true,
    "tags": []
   },
   "source": [
    "## Dataset 3"
   ]
  },
  {
   "cell_type": "code",
   "execution_count": 43,
   "id": "266d71ba-cd01-48c6-a028-f4eebdd1c04c",
   "metadata": {
    "tags": []
   },
   "outputs": [],
   "source": [
    "filename = '03_Cadastro_de_Empresas/tabelas_xlsx/Unidades_Locais/Tabela 12.xlsx'\n",
    "\n",
    "df = pd.read_excel(f'gs://{gcs_bucket}/{gcs_folder}/{filename}',\n",
    "                   storage_options={\"token\": private_key})"
   ]
  },
  {
   "cell_type": "markdown",
   "id": "bb5e877c-88a0-4886-9a7a-f9b062e9658f",
   "metadata": {},
   "source": [
    "### functions & dict"
   ]
  },
  {
   "cell_type": "code",
   "execution_count": 44,
   "id": "540e5d71-5f6b-4c48-822c-e5f7914a3969",
   "metadata": {
    "tags": []
   },
   "outputs": [],
   "source": [
    "def extrair_sigla_estado(valor):\n",
    "    # Divide o valor em duas partes, separadas por \" - \"\n",
    "    partes = valor.split(\" - \")\n",
    "    # A segunda parte contém a sigla do estado\n",
    "    sigla_estado = partes[1]\n",
    "    # Retorna a sigla do estado\n",
    "    return sigla_estado\n",
    "\n",
    "def extrair_municipio(valor):\n",
    "    partes = valor.split(\" - \")\n",
    "    municipio = partes[0]\n",
    "    return municipio\n",
    "\n",
    "new_header = ['nome_municipio', 'classificacao_atividade', 'numero_unidades_locais', 'pessoal_ocupado_total',\n",
    "              'pessoal_ocupado_assalariado','pessoal_assalariado_medio', 'salarios_e_outras_remuneracoes', \n",
    "              'Salario_medio_mensal_minimos', 'salario_medio_mensal_valor']"
   ]
  },
  {
   "cell_type": "markdown",
   "id": "bc990935-9a42-4b8f-a256-56ff2488b77e",
   "metadata": {},
   "source": [
    "### transformation"
   ]
  },
  {
   "cell_type": "code",
   "execution_count": 45,
   "id": "49ceeb7e-3f9e-4783-af79-c09c0cbe7032",
   "metadata": {
    "tags": []
   },
   "outputs": [],
   "source": [
    "df = df[5:-7] # Selecionar area util do dataframe\n",
    "df = df.replace({'X': 0, 'x': 0, '-': 0}) # Limpar valores invalidos\n",
    "df = df.rename(columns=dict(zip(df.columns, new_header))) # Renomeia o Header com new_header\n",
    "df = df.dropna()"
   ]
  },
  {
   "cell_type": "code",
   "execution_count": 46,
   "id": "7978810e-a32e-4f49-82bb-152e80b69c02",
   "metadata": {
    "tags": []
   },
   "outputs": [],
   "source": [
    "df['UF'] = df['nome_municipio'].apply(extrair_sigla_estado) # Cria a Coluna UF\n",
    "df['nome_municipio'] = df['nome_municipio'].apply(extrair_municipio) # Permanece o municipio\n",
    "df = df.reset_index(drop=True)\n",
    "\n",
    "tabela12 = df.copy()"
   ]
  },
  {
   "cell_type": "markdown",
   "id": "8b663d57-2e53-415f-9719-07cde299b5a8",
   "metadata": {
    "tags": []
   },
   "source": [
    "## Convert to Parquet"
   ]
  },
  {
   "cell_type": "code",
   "execution_count": 47,
   "id": "558dba4e-864d-4fc5-ae56-7e73b2aca096",
   "metadata": {
    "tags": []
   },
   "outputs": [
    {
     "name": "stderr",
     "output_type": "stream",
     "text": [
      "/opt/spark-3.2.3-bin-hadoop3.2/python/lib/pyspark.zip/pyspark/sql/pandas/conversion.py:371: FutureWarning: iteritems is deprecated and will be removed in a future version. Use .items instead.\n"
     ]
    }
   ],
   "source": [
    "tabela8_spark = spark.createDataFrame(tabela8)\n",
    "tabela12_spark = spark.createDataFrame(tabela12)"
   ]
  },
  {
   "cell_type": "code",
   "execution_count": 48,
   "id": "a9572a7a-e8ef-49b0-86b1-966ae1aafebf",
   "metadata": {
    "tags": []
   },
   "outputs": [
    {
     "name": "stderr",
     "output_type": "stream",
     "text": [
      "                                                                                \r"
     ]
    }
   ],
   "source": [
    "gcs_folder = 'transformed_data'\n",
    "gcs_bucket = \"bq-bucketgabrielcordeiro-1\"\n",
    "\n",
    "tabela2.write.format(\"parquet\").mode(\"overwrite\").save(f'gs://{gcs_bucket}/{gcs_folder}/01_tabela2.parquet')\n",
    "tabela8_spark.write.mode('overwrite').parquet(f'gs://{gcs_bucket}/{gcs_folder}/02_tabela8.parquet')\n",
    "tabela12_spark.write.mode('overwrite').parquet(f'gs://{gcs_bucket}/{gcs_folder}/03_tabela12.parquet')"
   ]
  },
  {
   "cell_type": "code",
   "execution_count": 49,
   "id": "25703697-635d-4d6e-ae67-ae74bdf4db3a",
   "metadata": {},
   "outputs": [
    {
     "name": "stdout",
     "output_type": "stream",
     "text": [
      "+-----------------+-----------------------------+--------------------+-------------------------------------------------+-----------------------------------------------+---+------+\n",
      "|   nome_municipio|posicao_30_maiores_municipios|     pib_concorrente|participacao_porcentagem_municipios_grande_regiao|participacao_acumulada_municípios_grande_regiao| UF|regiao|\n",
      "+-----------------+-----------------------------+--------------------+-------------------------------------------------+-----------------------------------------------+---+------+\n",
      "|           Manaus|                           1º| 8.486742337470977E7|                               20.186138650270156|                             20.186138650270156| AM| Norte|\n",
      "|            Belém|                           2º|3.2405322901894543E7|                                7.707767186665282|                              27.89390583693544| PA| Norte|\n",
      "|      Parauapebas|                           3º| 2.303584688047918E7|                               5.4791907255465935|                              33.37309656248203| PA| Norte|\n",
      "|      Porto Velho|                           4º|1.7912070136804778E7|                                4.260474949244815|                              37.63357151172685| RO| Norte|\n",
      "|           Macapá|                           5º|1.1434726098069131E7|                               2.7198064612418844|                              40.35337797296874| AP| Norte|\n",
      "|           Marabá|                           6º|1.1417650048768053E7|                               2.7157448380055045|                              43.06912281097424| PA| Norte|\n",
      "|Canaã dos Carajás|                           7º|1.0710595175334739E7|                               2.5475683205512545|                               45.6166911315255| PA| Norte|\n",
      "|        Boa Vista|                           8º|1.0571980089611208E7|                               2.5145980331527555|                              48.13128916467826| RR| Norte|\n",
      "|           Palmas|                           9º| 1.044960121153481E7|                               2.4854896084771587|                              50.61677877315542| TO| Norte|\n",
      "|       Rio Branco|                          10º|     9143620.2946007|                               2.1748555534353167|                              52.79163432659073| AC| Norte|\n",
      "|       Ananindeua|                          11º|   8165793.044709159|                                1.942274479833346|                             54.733908806424076| PA| Norte|\n",
      "|        Barcarena|                          12º|   5369310.054778394|                               1.2771170952545368|                             56.011025901678615| PA| Norte|\n",
      "|          Tucuruí|                          13º|   5318264.261163742|                               1.2649755994196872|                               57.2760015010983| PA| Norte|\n",
      "|         Santarém|                          14º|  5126171.5059305765|                               1.2192853824122907|                              58.49528688351059| PA| Norte|\n",
      "|        Araguaína|                          15º|   4710554.522193749|                                1.120428816188097|                              59.61571569969868| TO| Norte|\n",
      "| Vitória do Xingu|                          16º|  4051017.4233042104|                               0.9635546376897246|                              60.57927033738841| PA| Norte|\n",
      "|        Castanhal|                          17º|  4040634.5364499167|                               0.9610850164228524|                              61.54035535381126| PA| Norte|\n",
      "|        Ji-Paraná|                          18º|   3782971.682626998|                               0.8997986254206286|                              62.44015397923189| RO| Norte|\n",
      "|      Paragominas|                          19º|   3136000.922639256|                               0.7459134131157736|                              63.18606739234766| PA| Norte|\n",
      "|          Vilhena|                          20º|  2831175.3711367073|                                0.673409139955418|                              63.85947653230308| RO| Norte|\n",
      "+-----------------+-----------------------------+--------------------+-------------------------------------------------+-----------------------------------------------+---+------+\n",
      "only showing top 20 rows\n",
      "\n"
     ]
    }
   ],
   "source": [
    "tabela2.show()"
   ]
  },
  {
   "cell_type": "code",
   "execution_count": null,
   "id": "524428d0",
   "metadata": {},
   "outputs": [],
   "source": []
  }
 ],
 "metadata": {
  "kernelspec": {
   "display_name": "Python 3 (ipykernel)",
   "language": "python",
   "name": "python3"
  },
  "language_info": {
   "codemirror_mode": {
    "name": "ipython",
    "version": 3
   },
   "file_extension": ".py",
   "mimetype": "text/x-python",
   "name": "python",
   "nbconvert_exporter": "python",
   "pygments_lexer": "ipython3",
   "version": "3.10.6"
  }
 },
 "nbformat": 4,
 "nbformat_minor": 5
}
